{
 "cells": [
  {
   "cell_type": "code",
   "execution_count": 3,
   "id": "42a8a8fa-205e-44f0-9631-446b8ca36b03",
   "metadata": {},
   "outputs": [
    {
     "name": "stdout",
     "output_type": "stream",
     "text": [
      "6\n"
     ]
    }
   ],
   "source": [
    "#Write a Python program to calculate the length of a given string.\n",
    "    #Data:\"Baskar\"\n",
    "s=\"Baskar\"\n",
    "print(len(s))"
   ]
  },
  {
   "cell_type": "code",
   "execution_count": 15,
   "id": "f9a0d906-11ee-4d86-a794-a7986bbcf48b",
   "metadata": {},
   "outputs": [
    {
     "name": "stdout",
     "output_type": "stream",
     "text": [
      "ython\n",
      "Pytho\n"
     ]
    }
   ],
   "source": [
    " #Write a Python program to remove the character of the nth index from a given string. \n",
    "s=\"Python\"\n",
    "print(s[1:])\n",
    "print(s[0:5]) \n",
    "\n",
    "\n"
   ]
  },
  {
   "cell_type": "code",
   "execution_count": 24,
   "id": "21f0a76d-0496-4dfb-b9d2-8b802d981640",
   "metadata": {},
   "outputs": [
    {
     "data": {
      "text/plain": [
       "3.0"
      ]
     },
     "execution_count": 24,
     "metadata": {},
     "output_type": "execute_result"
    }
   ],
   "source": [
    "3. #Write a Python program to interchange the first and last character of a given string.\n",
    "# Data: 'abcd' '12345'\n",
    "    #Expected Output:dbca 52341\n"
   ]
  },
  {
   "cell_type": "code",
   "execution_count": 30,
   "id": "7f42fc1b-279e-45db-96af-bead5108b4f9",
   "metadata": {},
   "outputs": [
    {
     "name": "stdout",
     "output_type": "stream",
     "text": [
      "ace\n",
      "pto\n"
     ]
    }
   ],
   "source": [
    "4. #Write a Python program to remove the values of the odd index from a given string.\n",
    "   ### Data:'abcdef''python'\n",
    "    #Expected Output: ace pto \n",
    "s=\"abcdef\"\n",
    "s1=\"python\"\n",
    "sub_string=s[0:5:2]\n",
    "string=s1[0:5:2]\n",
    "print(sub_string)\n",
    "print(string)"
   ]
  },
  {
   "cell_type": "code",
   "execution_count": 34,
   "id": "502955ed-0518-4235-ba16-e9a3783ca6a4",
   "metadata": {},
   "outputs": [
    {
     "name": "stdin",
     "output_type": "stream",
     "text": [
      "Whats your favourite language tamil\n"
     ]
    },
    {
     "name": "stdout",
     "output_type": "stream",
     "text": [
      "My favourite language is TAMIL\n",
      "My favourite language is tamil\n"
     ]
    }
   ],
   "source": [
    "5.# Write a Python program to get input from the user and print the input back in uppercase.\n",
    "   # Data:\n",
    "       # Whats your favourite language: Tamil\n",
    "    #Expected Output:My favourite language is  TAMIL and My favourite language is  tamil\n",
    "\n",
    "s=input(\"Whats your favourite language\", )\n",
    "s1=s.upper()\n",
    "s2=s.lower()\n",
    "print(\"My favourite language is\", s1)\n",
    "print(\"My favourite language is\", s2)"
   ]
  },
  {
   "cell_type": "code",
   "execution_count": 81,
   "id": "23db70ea-b468-4f55-b3e8-ed8b49139c09",
   "metadata": {},
   "outputs": [
    {
     "name": "stdin",
     "output_type": "stream",
     "text": [
      "enter the comma separated sequence of words red, white, black, red, green, black\n"
     ]
    },
    {
     "name": "stdout",
     "output_type": "stream",
     "text": [
      "[' black', ' green', ' red', ' white', 'red']\n"
     ]
    }
   ],
   "source": [
    "#6. Write a Python program that accepts a comma separated sequence of words as input and print only the unique strings in sorted.\n",
    "  #  Data:\n",
    "       # Words : red, white, black, red, green, black\n",
    "    #Expected Output:\n",
    "      #  black, green, red, white,red\n",
    "\n",
    "S=input(\"enter the comma separated sequence of words\" )\n",
    "unique_words = sorted(set(S.split(',')))\n",
    "print(unique_words)\n",
    "\n"
   ]
  },
  {
   "cell_type": "code",
   "execution_count": 77,
   "id": "29fe0736-3ca3-481d-99fc-0b644377c8c4",
   "metadata": {},
   "outputs": [
    {
     "name": "stdout",
     "output_type": "stream",
     "text": [
      "fedcba\n",
      ".sesicrexE nohtyP\n"
     ]
    }
   ],
   "source": [
    "#7. Write a Python program to reverse a string.\n",
    "    #Data: \"abcdef\" \"Python Exercises.\"\n",
    "   # Expected Output: fedcba .sesicrexE nohtyP\n",
    "\n",
    "s=\"abcdef\"\n",
    "s1=\"Python Exercises.\"\n",
    "print(s[::-1])\n",
    "print(s1[::-1])"
   ]
  },
  {
   "cell_type": "code",
   "execution_count": null,
   "id": "feb7fde3-a4f5-4169-acd8-a4204caa73f0",
   "metadata": {},
   "outputs": [],
   "source": [
    " #8.Write a Python function to create the HTML string with tags around the string.\n",
    "  #  Data:('i', 'Python') ('b', 'Python Tutorial')\n",
    "  #  Expected Output: <i>Python</i>  <b>Python Tutorial </b>\n",
    "        "
   ]
  },
  {
   "cell_type": "code",
   "execution_count": 70,
   "id": "22516306-34a2-47ad-a063-ec9300861aa2",
   "metadata": {},
   "outputs": [
    {
     "name": "stdout",
     "output_type": "stream",
     "text": [
      "[[Python]]\n",
      "{{PHP}}\n"
     ]
    }
   ],
   "source": [
    "#9. Write a Python function to insert the second string in the middle of a first string.\n",
    "  #  Data:\n",
    "       # ('[[]]', 'Python')\n",
    "       # ('{{}}', 'PHP')\n",
    "   # Expected Output:\n",
    "      #  [[Python]]\n",
    "      #  {{PHP}}\n",
    "def insert_string_in_middle(str1, str2):\n",
    "    middle_index = len(str1) // 2\n",
    "    return str1[:middle_index] + str2 + str1[middle_index:]\n",
    "\n",
    "data1 = ('[[]]', 'Python')\n",
    "data2 = ('{{}}', 'PHP')\n",
    "\n",
    "output1 = insert_string_in_middle(*data1)\n",
    "output2 = insert_string_in_middle(*data2)\n",
    "\n",
    "print(output1)\n",
    "print(output2)\n",
    "    \n",
    "    \n",
    "\n",
    "\n"
   ]
  },
  {
   "cell_type": "code",
   "execution_count": 73,
   "id": "c0bcb683-12be-46c0-8033-5b993397e9fb",
   "metadata": {},
   "outputs": [
    {
     "name": "stdout",
     "output_type": "stream",
     "text": [
      "onononon\n"
     ]
    }
   ],
   "source": [
    "#9. Write a Python function to get a string made of 4 copies of the last two characters of a specified string \n",
    "   # (length must be at least 2).\n",
    "  #  Data: 'Python'\n",
    "    #Expected Output:onononon\n",
    "\n",
    "S='Python'\n",
    "print(S[4:6]*4)"
   ]
  },
  {
   "cell_type": "code",
   "execution_count": 97,
   "id": "853155ed-f267-4709-b756-c909639d52d0",
   "metadata": {},
   "outputs": [
    {
     "name": "stdout",
     "output_type": "stream",
     "text": [
      "ipy\n",
      "pyt\n"
     ]
    }
   ],
   "source": [
    "#10. Write a Python function to get a string made of its first three characters of a specified string. \n",
    "  ##  If the length of the string is less than 3 then return the original string.\n",
    "    #Data: 'ipy' 'python'\n",
    "    #Expected Output: ipy  pyt\n",
    "def first_three_chars(s):\n",
    "    if len(s) < 3:\n",
    "        return s\n",
    "    else:\n",
    "        return s[:3]\n",
    "\n",
    "data1 = 'ipy'\n",
    "data2 = 'python'\n",
    "\n",
    "print(first_three_chars(data1))  \n",
    "print(first_three_chars(data2))\n"
   ]
  },
  {
   "cell_type": "code",
   "execution_count": 108,
   "id": "7e81610c-eb60-4a3f-bb25-97a8c6e5de08",
   "metadata": {},
   "outputs": [
    {
     "name": "stdout",
     "output_type": "stream",
     "text": [
      "dcba\n",
      "python\n"
     ]
    }
   ],
   "source": [
    "#11. Write a Python function to reverse a string if its length is a multiple of 4.\n",
    "  #  Data:'abcd''python'\n",
    "    #Expected Output: dcba python\n",
    "def reverse_string_if_multiple_of_4(input_string):\n",
    "    if len(input_string) % 4 == 0:\n",
    "        return input_string[::-1]\n",
    "    return input_string\n",
    "\n",
    "data1 = 'abcd'\n",
    "data2 = 'python'\n",
    "\n",
    "\n",
    "output1 = reverse_string_if_multiple_of_4(data1)\n",
    "output2 = reverse_string_if_multiple_of_4(data2)\n",
    "\n",
    "print(output1)\n",
    "print(output2)\n"
   ]
  },
  {
   "cell_type": "code",
   "execution_count": null,
   "id": "23c3b44a-0cc5-4b1f-8189-927725e7f3f2",
   "metadata": {},
   "outputs": [],
   "source": [
    "12. Write a Python program to get the last part of a string before a specified character.\n",
    "    Data:\n",
    "        str1 = 'https://www.aidinasaur.com/python-exercises/string'\n",
    "    Expected Output:\n",
    "        https://www.aidinasaur.com/python-exercises\n",
    "        https://www.aidinasaur.com/python"
   ]
  },
  {
   "cell_type": "code",
   "execution_count": 112,
   "id": "0285f988-7042-477d-8e74-b84f8e6b5484",
   "metadata": {},
   "outputs": [
    {
     "name": "stdout",
     "output_type": "stream",
     "text": [
      "['a', 'a', 'a', 'd', 'i', 'i', 'n', 'r', 's', 'u']\n"
     ]
    }
   ],
   "source": [
    "#13. Write a Python program to sort a string lexicographically.\n",
    "   # Data:  aidinasaur\n",
    "    #Expected Output:  ['a', 'a', 'a', 'd', 'i', 'i', 'n', 'r', 's', 'u']\n",
    "s=\"aidinasaur\"\n",
    "s2=sorted(s)\n",
    "print(s2)"
   ]
  },
  {
   "cell_type": "code",
   "execution_count": 117,
   "id": "3baa000d-992b-4a77-9876-de45bc5cec8e",
   "metadata": {},
   "outputs": [
    {
     "name": "stdout",
     "output_type": "stream",
     "text": [
      "Python Exercises\n",
      "Python Exercises\n"
     ]
    }
   ],
   "source": [
    "#14. Write a Python program to remove a newline in Python.\n",
    "   # Data:'Python Exercises\\n'\n",
    "    #Expected Output: Python Exercises\n",
    "#Python Exercises\n",
    "\n",
    "s='Python Exercises\\n'\n",
    "S=s.strip()\n",
    "S1=s.rstrip()\n",
    "print(S)\n",
    "print(S1)"
   ]
  },
  {
   "cell_type": "code",
   "execution_count": 121,
   "id": "214c9fa4-ede6-41c4-8052-7d045d55742b",
   "metadata": {},
   "outputs": [
    {
     "name": "stdout",
     "output_type": "stream",
     "text": [
      "True\n"
     ]
    }
   ],
   "source": [
    "# 15. Write a Python program to check whether a string starts with specified character.\n",
    "   # Data:aidinasaur.com\n",
    "   # Expected Output: True\n",
    "s=\"aidinasaur.com\"\n",
    "char='a'\n",
    "print(s.startswith(char))"
   ]
  },
  {
   "cell_type": "raw",
   "id": "478007f3-e281-4b0e-8148-44b5071df6fc",
   "metadata": {},
   "source": [
    "16. Write a Python program to count the number of occurrences of a substring in a string.\n",
    "    #Data: \"Word to publish Word docs as web pages\" count = \"word\"\n",
    "   # Expected Output:2"
   ]
  },
  {
   "cell_type": "code",
   "execution_count": 140,
   "id": "cc80c1a1-6bba-4a36-a777-61b809f9a3fe",
   "metadata": {},
   "outputs": [
    {
     "name": "stdout",
     "output_type": "stream",
     "text": [
      "2\n"
     ]
    }
   ],
   "source": [
    "string = \"Word to publish Word docs as web pages\"\n",
    "substring = \"Word\"\n",
    "\n",
    "count = string.lower().count(substring.lower())\n",
    "\n",
    "print(count)"
   ]
  },
  {
   "cell_type": "code",
   "execution_count": 147,
   "id": "a3ef24c4-1529-4d6a-b99c-add6aa7f5b1d",
   "metadata": {},
   "outputs": [
    {
     "name": "stdout",
     "output_type": "stream",
     "text": [
      "aidiNASAUR.COM\n"
     ]
    }
   ],
   "source": [
    "#18. Write a Python program to lowercase first n characters in a string.\n",
    "   # Data:\n",
    "       # \"AIDINASAUR.COM\"\n",
    "    #Expected Output:  \n",
    "        #aidiNASAUR.COM\n",
    "def lowercase_first_n_chars(input_string, n):\n",
    "    return input_string[:n].lower() + input_string[n:]\n",
    "\n",
    "data = \"AIDINASAUR.COM\"\n",
    "n = 4\n",
    "output = lowercase_first_n_chars(data, n)\n",
    "print(output)"
   ]
  },
  {
   "cell_type": "code",
   "execution_count": 158,
   "id": "c673d8aa-72a5-44db-a0ce-083478dfb7ec",
   "metadata": {},
   "outputs": [
    {
     "name": "stdout",
     "output_type": "stream",
     "text": [
      "32,054.23\n"
     ]
    }
   ],
   "source": [
    "#19. Write a Python program to swap comma and dot in a string.\n",
    "   # Data: \"32.054,23\"\n",
    "  #  Expected Output: \"32,054.23\"\n",
    "s=\"32.054,23\"\n",
    "print(s.replace(',', '#').replace('.', ',').replace('#', '.'))"
   ]
  },
  {
   "cell_type": "code",
   "execution_count": 13,
   "id": "1dbb5cee-3fcc-4238-90e7-17bd77780270",
   "metadata": {},
   "outputs": [
    {
     "name": "stdout",
     "output_type": "stream",
     "text": [
      "['A', 'I', 'I', 'A', 'A', 'U', 'O']\n",
      "7\n"
     ]
    }
   ],
   "source": [
    "#20. Write a Python program to count and display the vowels of a given text.\n",
    "    #Data: \"AIDINASAUR.COM\"\n",
    "   # Expected Output:  7  ['A', 'I', 'I', 'A', 'A', 'U', 'O']\n",
    "\n",
    "S=\"AIDINASAUR.COM\"\n",
    "v=\"AEIOUaeiou\"\n",
    "C=0\n",
    "c=[]\n",
    "for char in S:\n",
    "    if char in v:\n",
    "        C=1\n",
    "        c.append(char)\n",
    "    \n",
    "print(c)\n",
    "print(len(c))\n",
    "        "
   ]
  },
  {
   "cell_type": "code",
   "execution_count": null,
   "id": "e6dbe0e5-9d39-4394-9026-76de97ff2d74",
   "metadata": {},
   "outputs": [],
   "source": []
  },
  {
   "cell_type": "code",
   "execution_count": null,
   "id": "f5f3cd33-c71b-4e11-a3b8-91c7d79ae0b1",
   "metadata": {},
   "outputs": [],
   "source": []
  },
  {
   "cell_type": "code",
   "execution_count": null,
   "id": "053aa588-1a4b-4c2b-b6d7-8e08d2c8e369",
   "metadata": {},
   "outputs": [],
   "source": []
  },
  {
   "cell_type": "code",
   "execution_count": null,
   "id": "9d59e2d5-cddb-4c3f-9f5f-ad47596badc6",
   "metadata": {},
   "outputs": [],
   "source": []
  },
  {
   "cell_type": "code",
   "execution_count": null,
   "id": "d9ad89a4-b7cd-4743-aa7f-7d91aa4cda12",
   "metadata": {},
   "outputs": [],
   "source": []
  }
 ],
 "metadata": {
  "kernelspec": {
   "display_name": "Python [conda env:base] *",
   "language": "python",
   "name": "conda-base-py"
  },
  "language_info": {
   "codemirror_mode": {
    "name": "ipython",
    "version": 3
   },
   "file_extension": ".py",
   "mimetype": "text/x-python",
   "name": "python",
   "nbconvert_exporter": "python",
   "pygments_lexer": "ipython3",
   "version": "3.12.7"
  }
 },
 "nbformat": 4,
 "nbformat_minor": 5
}
