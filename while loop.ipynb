{
 "cells": [
  {
   "cell_type": "code",
   "execution_count": null,
   "id": "2471c84a-1881-4a33-85db-6a386f0be9d0",
   "metadata": {},
   "outputs": [],
   "source": [
    "1. Write a python program to pop() elements until the list has elements using while loop.\n",
    "    Data:\n",
    "        a = [1,2,3,4,5]\n",
    "    Expected output:\n",
    "        5\n",
    "        4\n",
    "        3\n",
    "        2\n",
    "        1"
   ]
  },
  {
   "cell_type": "code",
   "execution_count": 1,
   "id": "34c8581f-5960-4c6b-93ff-a8bb69a7e204",
   "metadata": {},
   "outputs": [
    {
     "name": "stdout",
     "output_type": "stream",
     "text": [
      "5\n",
      "4\n",
      "3\n",
      "2\n",
      "1\n"
     ]
    }
   ],
   "source": [
    "a=[1,2,3,4,5]\n",
    "while a:\n",
    "    print(a.pop())"
   ]
  },
  {
   "cell_type": "code",
   "execution_count": null,
   "id": "d0b62380-061b-4ed4-b88d-0483055d7485",
   "metadata": {},
   "outputs": [],
   "source": [
    "2. Write a simple python program to demonstrate a while loop with else block.\n",
    "    Data:\n",
    "        x = 10\n",
    "    Expected output:\n",
    "        10\n",
    "        9\n",
    "        8\n",
    "        7\n",
    "        loop is finished"
   ]
  },
  {
   "cell_type": "code",
   "execution_count": 2,
   "id": "c616dae8-5590-440e-966c-dfbdab09c21e",
   "metadata": {},
   "outputs": [
    {
     "name": "stdout",
     "output_type": "stream",
     "text": [
      "10\n",
      "9\n",
      "8\n",
      "7\n",
      "loop is finished\n"
     ]
    }
   ],
   "source": [
    "x = 10\n",
    "while x > 6:\n",
    "    print(x)\n",
    "    x -= 1\n",
    "else:\n",
    "    print(\"loop is finished\")"
   ]
  },
  {
   "cell_type": "code",
   "execution_count": null,
   "id": "de6e6e66-b113-40f8-9aec-636ccb6bc3aa",
   "metadata": {},
   "outputs": [],
   "source": [
    "3. write a python program to print x as long as x is less than 6, using while loop.\n",
    "    Data:\n",
    "        x = 1\n",
    "   # Expected output:\n",
    "        1\n",
    "        2\n",
    "        3\n",
    "        4\n",
    "        5"
   ]
  },
  {
   "cell_type": "code",
   "execution_count": 3,
   "id": "89c633a8-029d-48f1-8d4b-6b594e462c03",
   "metadata": {},
   "outputs": [
    {
     "name": "stdout",
     "output_type": "stream",
     "text": [
      "1\n",
      "2\n",
      "3\n",
      "4\n",
      "5\n"
     ]
    }
   ],
   "source": [
    "x=1\n",
    "while x<6:\n",
    "    print(x)\n",
    "    x+=1"
   ]
  },
  {
   "cell_type": "code",
   "execution_count": null,
   "id": "867405f0-7535-4aed-8ede-5e47ce96b42e",
   "metadata": {},
   "outputs": [],
   "source": [
    "4. Write a python program to check if list still contains any element using while loop and pop().\n",
    "    Data:\n",
    "        x = [0,1,2,3,4,5]\n",
    "    Expected output:\n",
    "        5\n",
    "        4\n",
    "        3\n",
    "        2\n",
    "        1\n",
    "        0"
   ]
  },
  {
   "cell_type": "code",
   "execution_count": 4,
   "id": "9eacdeef-7b33-4a61-a7fc-0d3d0c8c196a",
   "metadata": {},
   "outputs": [
    {
     "name": "stdout",
     "output_type": "stream",
     "text": [
      "5\n",
      "4\n",
      "3\n",
      "2\n",
      "1\n",
      "0\n"
     ]
    }
   ],
   "source": [
    "x= [0,1,2,3,4,5]\n",
    "while x:\n",
    "    print(x.pop())"
   ]
  },
  {
   "cell_type": "code",
   "execution_count": null,
   "id": "fc4895ba-684c-4206-acfe-ae7910b9efe8",
   "metadata": {},
   "outputs": [],
   "source": [
    "5.Write a python program to print the following pattern using while loop.\n",
    "    Expected output:\n",
    "    *\n",
    "    * * \n",
    "    * * * \n",
    "    * * * *\n",
    "    "
   ]
  },
  {
   "cell_type": "code",
   "execution_count": 5,
   "id": "21b35ff6-36f8-4b23-ac53-068c37a87ebd",
   "metadata": {},
   "outputs": [
    {
     "name": "stdout",
     "output_type": "stream",
     "text": [
      "* \n",
      "* * \n",
      "* * * \n",
      "* * * * \n"
     ]
    }
   ],
   "source": [
    "rows = 4\n",
    "\n",
    "for i in range(0, rows):\n",
    "    for j in range(0, i + 1):\n",
    "        print(\"*\", end=' ')\n",
    "    print()"
   ]
  },
  {
   "cell_type": "code",
   "execution_count": null,
   "id": "41db781f-fe7d-40db-9db8-b6ec70d8e46d",
   "metadata": {},
   "outputs": [],
   "source": [
    "6.Write a python program to print multiplication table of 24 using while loop.\n",
    "    Data:\n",
    "        24\n",
    "    Expected output:\n",
    "        24 48 72 96 120 144 168 192 216 240 "
   ]
  },
  {
   "cell_type": "code",
   "execution_count": 6,
   "id": "75a5a4e9-f0d8-48f1-99df-1fda2a1c5cef",
   "metadata": {},
   "outputs": [
    {
     "name": "stdout",
     "output_type": "stream",
     "text": [
      "24 48 72 96 120 144 168 192 216 240 "
     ]
    }
   ],
   "source": [
    "num = 24\n",
    "i = 1\n",
    "\n",
    "while i<= 10:\n",
    "    result = num * i\n",
    "    print(result, end=\" \")\n",
    "    i += 1"
   ]
  },
  {
   "cell_type": "code",
   "execution_count": null,
   "id": "3fb15302-07e1-4418-81df-e58b9c1f0397",
   "metadata": {},
   "outputs": [],
   "source": [
    "7. Write a python program to print first 10 natural numbers using while loop.\n",
    "    Data:\n",
    "        10\n",
    "    Expected output:\n",
    "        0 1 2 3 4 5 6 7 8 9 10 "
   ]
  },
  {
   "cell_type": "code",
   "execution_count": 17,
   "id": "92f1b544-020f-47ee-a15d-354a2e8b2c86",
   "metadata": {},
   "outputs": [
    {
     "name": "stdout",
     "output_type": "stream",
     "text": [
      "0 1 2 3 4 5 6 7 8 9 10 "
     ]
    }
   ],
   "source": [
    "i=0\n",
    "while i<=10:\n",
    "    print(i,  end=' ')\n",
    "    i+=1"
   ]
  },
  {
   "cell_type": "code",
   "execution_count": null,
   "id": "783e06ec-c26a-4f5d-a8d7-ac0edaa24e6d",
   "metadata": {},
   "outputs": [],
   "source": [
    "8. Write a python program to get the fibonacci series between 0 to 50.\n",
    "    Data:\n",
    "        x,y = 0,1\n",
    "    Expected output:\n",
    "        1\n",
    "        1\n",
    "        2\n",
    "        3\n",
    "        5\n",
    "        8\n",
    "        13\n",
    "        21\n",
    "        34"
   ]
  },
  {
   "cell_type": "code",
   "execution_count": null,
   "id": "bf6f53fb-daae-4b0e-92bb-3f244929456d",
   "metadata": {},
   "outputs": [],
   "source": [
    "x, y = 0, 1\n",
    "\n",
    "while True:\n",
    "    z = x + y\n",
    "    if z > 50:\n",
    "        break\n",
    "    print(z)\n",
    "    x, y = y, z"
   ]
  },
  {
   "cell_type": "code",
   "execution_count": null,
   "id": "8b6c262a-36e1-4603-a649-a535885f7cf7",
   "metadata": {},
   "outputs": [],
   "source": [
    "9. Write a python program to construct the following pattern.\n",
    "    Expected output:\n",
    "        1\n",
    "        22\n",
    "        333\n",
    "        4444\n",
    "        55555\n",
    "        666666\n",
    "        7777777\n",
    "        88888888\n",
    "        999999999"
   ]
  },
  {
   "cell_type": "code",
   "execution_count": null,
   "id": "34bb0f6b-af16-449f-954c-004c8ec7aeab",
   "metadata": {},
   "outputs": [],
   "source": [
    "for i in range(1,10): # 1 2 3 4\n",
    "    for j in range(1,10):# 1 2 3 4\n",
    "        if i>=j:\n",
    "            print(i,end=\" \")\n",
    "        else:\n",
    "            print(' ')"
   ]
  },
  {
   "cell_type": "code",
   "execution_count": null,
   "id": "59d58b7d-5e41-41d1-a67d-f7052efe7755",
   "metadata": {},
   "outputs": [],
   "source": [
    "10. Write a python program to add natural number up to sum = 1+2+3+.....+n\n",
    "    Expected output:\n",
    "        The sum is  15"
   ]
  },
  {
   "cell_type": "code",
   "execution_count": null,
   "id": "f9c096ca-9f47-4049-a6e1-7d0630ed4a1e",
   "metadata": {},
   "outputs": [],
   "source": [
    "n = 5\n",
    "total = sum(range(1, n + 1))\n",
    "print(\"The sum is\", total)\n",
    "    "
   ]
  },
  {
   "cell_type": "code",
   "execution_count": null,
   "id": "e1500ae1-ca49-4a34-903d-b7edad619cce",
   "metadata": {},
   "outputs": [],
   "source": [
    "11. Write a python program to illustrate the working of while loop with else statement.\n",
    "    Expected output:\n",
    "        Inside loop\n",
    "        Inside loop\n",
    "        Inside loop\n",
    "        Inside else"
   ]
  },
  {
   "cell_type": "code",
   "execution_count": null,
   "id": "c9bcf32f-b524-484a-b73d-354a39ebe1c9",
   "metadata": {},
   "outputs": [],
   "source": [
    "x=0\n",
    "while x<3:\n",
    "    print(\"inside loop\")\n",
    "    x+=1\n",
    "else:\n",
    "    print(\"inside else\")\n",
    "    "
   ]
  },
  {
   "cell_type": "code",
   "execution_count": null,
   "id": "f01f1889-ddbd-4027-bc8a-b5a06de99e9c",
   "metadata": {},
   "outputs": [],
   "source": [
    "12. Write a simple python program to illustrate the working of nested while loop using given data.\n",
    "    Data:\n",
    "        i = 1\n",
    "        j = 3\n",
    "    Expected output:\n",
    "        1 , 3\n",
    "        2 , 4\n",
    "        3 , 5\n",
    "        4 , 6\n",
    "        5 , 7"
   ]
  },
  {
   "cell_type": "code",
   "execution_count": null,
   "id": "ed7833e2-8046-4429-bc81-3ffb5eb05d1c",
   "metadata": {},
   "outputs": [],
   "source": [
    "i = 1\n",
    "j = 3\n",
    "\n",
    "while i <= 5:\n",
    "   \n",
    "    while j <= 7:\n",
    "        print(i, \",\", j)\n",
    "        i += 1\n",
    "        j += 1\n",
    "        break "
   ]
  },
  {
   "cell_type": "code",
   "execution_count": null,
   "id": "58bf961e-5a98-4193-977c-309ca654ace3",
   "metadata": {},
   "outputs": [],
   "source": [
    "13. Write a Python program to print the following output from given data using while loop.\n",
    "    Data:\n",
    "        n = 7, c = 0\n",
    "    Expected output:\n",
    "        5\n",
    "        11"
   ]
  },
  {
   "cell_type": "code",
   "execution_count": null,
   "id": "b9fa2b47-f053-48c8-a2c7-2609e50f648c",
   "metadata": {},
   "outputs": [],
   "source": []
  },
  {
   "cell_type": "code",
   "execution_count": null,
   "id": "e9055e7b-7bae-4784-af7f-bf1e5d3c260b",
   "metadata": {},
   "outputs": [],
   "source": [
    "14. Write a python program to exit the loop when x is 3, using break statement in a while loop.\n",
    "    Data:\n",
    "        x = 1\n",
    "    Expected output:\n",
    "        1\n",
    "        2\n",
    "        3"
   ]
  },
  {
   "cell_type": "code",
   "execution_count": null,
   "id": "6a8d2dc0-fe09-43c2-a6df-ad53c06ff054",
   "metadata": {},
   "outputs": [],
   "source": [
    "x = 1\n",
    "while True:\n",
    "    print(x)\n",
    "    if x == 3:\n",
    "        break\n",
    "    x += 1"
   ]
  },
  {
   "cell_type": "code",
   "execution_count": null,
   "id": "589e17a4-3cb5-42d1-9ea1-a21e48d0b34b",
   "metadata": {},
   "outputs": [],
   "source": [
    "15. Write a python program to continue the next iteration if x is 3.\n",
    "    Data:\n",
    "        x = 0\n",
    "    Expected output:\n",
    "        1\n",
    "        2\n",
    "        4\n",
    "        5\n",
    "        6"
   ]
  },
  {
   "cell_type": "code",
   "execution_count": 23,
   "id": "8698f980-2323-42a7-b0f7-0d8181ef911e",
   "metadata": {},
   "outputs": [
    {
     "name": "stdout",
     "output_type": "stream",
     "text": [
      "1\n",
      "2\n",
      "4\n",
      "5\n",
      "6\n"
     ]
    }
   ],
   "source": [
    "x=0\n",
    "while x<6:\n",
    "    x+=1\n",
    "    if x==3:\n",
    "        continue\n",
    "    print(x)"
   ]
  },
  {
   "cell_type": "code",
   "execution_count": null,
   "id": "04c75ccb-81ee-4910-8d8e-e34f21b96756",
   "metadata": {},
   "outputs": [],
   "source": [
    "16. Write a python program to print a message once the while condition is false.\n",
    "    Data:\n",
    "        x = 1\n",
    "    Expeccted output:\n",
    "        1\n",
    "        2\n",
    "        3\n",
    "        4\n",
    "        5\n",
    "        x is no longer less than 6\n",
    "        \n",
    "        "
   ]
  },
  {
   "cell_type": "code",
   "execution_count": 22,
   "id": "c42d02be-e587-48d6-92d6-239d3c96217c",
   "metadata": {},
   "outputs": [
    {
     "name": "stdout",
     "output_type": "stream",
     "text": [
      "1\n",
      "2\n",
      "3\n",
      "4\n",
      "5\n",
      "x is no longer less than 6\n"
     ]
    }
   ],
   "source": [
    "x=1\n",
    "while x<=5:\n",
    "    print(x)\n",
    "    x+=1\n",
    "    if x==6:\n",
    "        print(\"x is no longer less than 6\")"
   ]
  },
  {
   "cell_type": "code",
   "execution_count": null,
   "id": "5b9a980c-b5d9-493f-80ee-9ccfbfb02260",
   "metadata": {},
   "outputs": [],
   "source": [
    "17. Write a python program to illustrate a simple while loop.\n",
    "    Data:\n",
    "        Hello Words\n",
    "    Expected output:\n",
    "        Hello Words\n",
    "        Hello Words\n",
    "        Hello Words\n",
    "        "
   ]
  },
  {
   "cell_type": "code",
   "execution_count": 21,
   "id": "ea2c50ad-d493-4282-8ba7-405281df2fc5",
   "metadata": {},
   "outputs": [
    {
     "name": "stdout",
     "output_type": "stream",
     "text": [
      "Hello Words\n",
      "Hello Words\n",
      "Hello Words\n"
     ]
    }
   ],
   "source": [
    "x=\"Hello Words\"\n",
    "count=0\n",
    "while count<3:\n",
    "    print(x)\n",
    "    count+=1"
   ]
  },
  {
   "cell_type": "code",
   "execution_count": null,
   "id": "deadb2d3-b106-480e-8b5c-28c2688b3588",
   "metadata": {},
   "outputs": [],
   "source": [
    "18. Write a python program to use pass statement in a while loop.\n",
    "    Data:\n",
    "        x = \"jackforjack\"\n",
    "        y = 0\n",
    "    Expected output:\n",
    "        Value of y:  11"
   ]
  },
  {
   "cell_type": "code",
   "execution_count": 20,
   "id": "e523e09c-1366-4caf-9325-2d95ca112c60",
   "metadata": {},
   "outputs": [
    {
     "name": "stdout",
     "output_type": "stream",
     "text": [
      "Value of y:  11\n"
     ]
    }
   ],
   "source": [
    "x = \"jackforjack\"\n",
    "y = 0\n",
    "while y < len(x):\n",
    "    pass  \n",
    "    y += 1\n",
    "print(\"Value of y: \", y)"
   ]
  },
  {
   "cell_type": "code",
   "execution_count": null,
   "id": "6d20cf9d-954c-44fe-bea2-e5df67334615",
   "metadata": {},
   "outputs": [],
   "source": []
  },
  {
   "cell_type": "code",
   "execution_count": null,
   "id": "69e64bea-c14e-4202-88f7-503b4435342d",
   "metadata": {},
   "outputs": [],
   "source": [
    "19. Write a python program to demonstrate while-else loop.\n",
    "    Data:\n",
    "        x = 0\n",
    "    Expected output:\n",
    "        1\n",
    "        2\n",
    "        3\n",
    "        4\n",
    "        Good bye\n",
    "        \n",
    "        "
   ]
  },
  {
   "cell_type": "code",
   "execution_count": 19,
   "id": "14a4e41a-97f5-47ff-8a9b-c6617553bbe7",
   "metadata": {},
   "outputs": [
    {
     "name": "stdout",
     "output_type": "stream",
     "text": [
      "1\n",
      "2\n",
      "3\n",
      "4\n",
      "Good bye\n"
     ]
    }
   ],
   "source": [
    "x=0\n",
    "while x<4:\n",
    "  x+=1\n",
    "  print(x)\n",
    "else:\n",
    "  print(\"Good bye\")"
   ]
  },
  {
   "cell_type": "code",
   "execution_count": null,
   "id": "7358ca90-c082-400e-9566-335e7b9b4d14",
   "metadata": {},
   "outputs": [],
   "source": [
    "20. Write a Python program to print multiplication table of 5 using while loop.\n",
    "    Expected output:\n",
    "        5 * 1 = 5\n",
    "        5 * 2 = 10\n",
    "        5 * 3 = 15\n",
    "        5 * 4 = 20\n",
    "        5 * 5 = 25\n",
    "        5 * 6 = 30\n",
    "        5 * 7 = 35\n",
    "        5 * 8 = 40\n",
    "        5 * 9 = 45\n",
    "        5 * 10 = 50"
   ]
  },
  {
   "cell_type": "code",
   "execution_count": 18,
   "id": "89b1224d-38b7-44a4-8ac4-74c40df29927",
   "metadata": {},
   "outputs": [
    {
     "name": "stdout",
     "output_type": "stream",
     "text": [
      "5 * 1 = 5\n",
      "5 * 2 = 10\n",
      "5 * 3 = 15\n",
      "5 * 4 = 20\n",
      "5 * 5 = 25\n",
      "5 * 6 = 30\n",
      "5 * 7 = 35\n",
      "5 * 8 = 40\n",
      "5 * 9 = 45\n",
      "5 * 10 = 50\n"
     ]
    }
   ],
   "source": [
    "num=5\n",
    "i=1\n",
    "while i<=10:\n",
    "  result=num*i\n",
    "  print(num,\"*\",i,\"=\",result)\n",
    "  i+=1"
   ]
  },
  {
   "cell_type": "code",
   "execution_count": null,
   "id": "d71a8e85-a136-4303-8672-f0fa17f707d4",
   "metadata": {},
   "outputs": [],
   "source": []
  },
  {
   "cell_type": "code",
   "execution_count": null,
   "id": "0b1fa37b-e979-4707-b2b6-c80ba91146bb",
   "metadata": {},
   "outputs": [],
   "source": []
  }
 ],
 "metadata": {
  "kernelspec": {
   "display_name": "Python [conda env:base] *",
   "language": "python",
   "name": "conda-base-py"
  },
  "language_info": {
   "codemirror_mode": {
    "name": "ipython",
    "version": 3
   },
   "file_extension": ".py",
   "mimetype": "text/x-python",
   "name": "python",
   "nbconvert_exporter": "python",
   "pygments_lexer": "ipython3",
   "version": "3.12.7"
  }
 },
 "nbformat": 4,
 "nbformat_minor": 5
}
