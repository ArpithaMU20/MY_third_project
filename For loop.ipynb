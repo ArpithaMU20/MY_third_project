{
 "cells": [
  {
   "cell_type": "code",
   "execution_count": null,
   "id": "40847f45-a582-4f49-aa38-ddeeb0eca9e0",
   "metadata": {},
   "outputs": [],
   "source": [
    "''' 1. Write a Python program to print expected output from the data given below.   \n",
    "    Data:\n",
    "         country = [\"India\", \"Canada\", \"Sweden\"]    \n",
    "    Expected Output:\n",
    "    India\n",
    "    Canada\n",
    "    Sweden '''  \n"
   ]
  },
  {
   "cell_type": "code",
   "execution_count": 1,
   "id": "21bc5a41-41a8-4222-814b-a86f952f48d5",
   "metadata": {},
   "outputs": [
    {
     "name": "stdout",
     "output_type": "stream",
     "text": [
      "India\n",
      "Canada\n",
      "Sweden\n"
     ]
    }
   ],
   "source": [
    "country = [\"India\", \"Canada\", \"Sweden\"]    \n",
    "for i in country:\n",
    "    print(i)"
   ]
  },
  {
   "cell_type": "code",
   "execution_count": null,
   "id": "976001d9-4b0e-467c-847d-2f26f4ed5f71",
   "metadata": {},
   "outputs": [],
   "source": [
    "2. Write a Python program to print expected output from the data given below. \n",
    "    Data:\n",
    "         string = \"banana\"\n",
    "    Expected Output: \n",
    "    b\n",
    "    a\n",
    "    n\n",
    "    a\n",
    "    n\n",
    "    a "
   ]
  },
  {
   "cell_type": "code",
   "execution_count": 2,
   "id": "eefcc6ae-12e9-4d90-b84b-64b0f409a42f",
   "metadata": {},
   "outputs": [
    {
     "name": "stdout",
     "output_type": "stream",
     "text": [
      "b\n",
      "a\n",
      "n\n",
      "a\n",
      "n\n",
      "a\n"
     ]
    }
   ],
   "source": [
    "string=\"banana\"\n",
    "for i in string:\n",
    "    print(i)"
   ]
  },
  {
   "cell_type": "code",
   "execution_count": null,
   "id": "a4b25ece-0a66-4601-8fcb-2b0a045b66ca",
   "metadata": {},
   "outputs": [],
   "source": [
    "3. Write a Python program to print expected output using break statement from the data given below.    \n",
    "    Data:\n",
    "        country = [\"India\", \"Canada\", \"Sweden\"]      \n",
    "    Expected Output: \n",
    "    India\n",
    "    Canada"
   ]
  },
  {
   "cell_type": "code",
   "execution_count": 3,
   "id": "10c4a741-e3ee-43d6-a6a2-d96382f682b3",
   "metadata": {},
   "outputs": [
    {
     "name": "stdout",
     "output_type": "stream",
     "text": [
      "India\n",
      "Canada\n"
     ]
    }
   ],
   "source": [
    "country = [\"India\", \"Canada\", \"Sweden\"]\n",
    "\n",
    "for c in country:\n",
    "    print(c)\n",
    "    if c == \"Canada\":\n",
    "        break"
   ]
  },
  {
   "cell_type": "code",
   "execution_count": null,
   "id": "9e0c087e-faf7-439c-aa28-6d7416c63699",
   "metadata": {},
   "outputs": [],
   "source": [
    "4. Write a Python program to print expected output using continue statement from the data given below.\n",
    "    Data:\n",
    "        country = [\"India\", \"Canada\", \"Sweden\"]\n",
    "    Expected Output: \n",
    "    India\n",
    "    Sweden '''"
   ]
  },
  {
   "cell_type": "code",
   "execution_count": 4,
   "id": "0fe45744-5df3-4718-9f98-16d3cbe42ba7",
   "metadata": {},
   "outputs": [
    {
     "name": "stdout",
     "output_type": "stream",
     "text": [
      "India\n",
      "Sweden\n"
     ]
    }
   ],
   "source": [
    "country = [\"India\", \"Canada\", \"Sweden\"]\n",
    "for c in country:\n",
    "    if c == \"Canada\":\n",
    "        continue\n",
    "    print(c)"
   ]
  },
  {
   "cell_type": "code",
   "execution_count": null,
   "id": "9fba85e4-65dc-4d14-9ffa-b2f9a892f5bb",
   "metadata": {},
   "outputs": [],
   "source": [
    "6. Write a Python program to print expected output using range in for loop.\n",
    "    Expected Output:\n",
    "    0\n",
    "    1\n",
    "    2\n",
    "    3\n",
    "    4\n",
    "    5"
   ]
  },
  {
   "cell_type": "code",
   "execution_count": 7,
   "id": "835d6285-1cdc-4f45-b18f-dc4728e48b38",
   "metadata": {},
   "outputs": [
    {
     "name": "stdout",
     "output_type": "stream",
     "text": [
      "0\n",
      "1\n",
      "2\n",
      "3\n",
      "4\n",
      "5\n"
     ]
    }
   ],
   "source": [
    "for i in range(6):\n",
    "  print(i)"
   ]
  },
  {
   "cell_type": "code",
   "execution_count": null,
   "id": "914b6a9d-fdd6-4a4a-a78d-701a1cd12db4",
   "metadata": {},
   "outputs": [],
   "source": [
    "7. Write a Python program to print expected output by passing range parameters as (2, 6).\n",
    "    Expected Output:\n",
    "    2\n",
    "    3\n",
    "    4\n",
    "    5 "
   ]
  },
  {
   "cell_type": "code",
   "execution_count": 8,
   "id": "e08d6e7d-ef9d-4ffb-8022-da80c027eb06",
   "metadata": {},
   "outputs": [
    {
     "name": "stdout",
     "output_type": "stream",
     "text": [
      "2\n",
      "3\n",
      "4\n",
      "5\n"
     ]
    }
   ],
   "source": [
    "for i in range(2,6):\n",
    "  print(i)"
   ]
  },
  {
   "cell_type": "code",
   "execution_count": null,
   "id": "ebda9268-0a91-4a3a-bf83-747ab8f3c91f",
   "metadata": {},
   "outputs": [],
   "source": [
    "'8. Write a Python program to print expected output, range between 2 to 30 and increment the sequence by 3.\n",
    "    Expected Output:\n",
    "    2\n",
    "    5\n",
    "    8\n",
    "    11\n",
    "    14\n",
    "    17\n",
    "    20\n",
    "    23\n",
    "    26\n",
    "    29"
   ]
  },
  {
   "cell_type": "code",
   "execution_count": 9,
   "id": "c338633a-db1f-4610-9ed1-1a8b7fba254a",
   "metadata": {},
   "outputs": [
    {
     "name": "stdout",
     "output_type": "stream",
     "text": [
      "2\n",
      "5\n",
      "8\n",
      "11\n",
      "14\n",
      "17\n",
      "20\n",
      "23\n",
      "26\n",
      "29\n"
     ]
    }
   ],
   "source": [
    "for i in range(2,30,3):\n",
    "  print(i)\n"
   ]
  },
  {
   "cell_type": "code",
   "execution_count": null,
   "id": "8fd7a9bd-9255-4747-a812-6d302c715aad",
   "metadata": {},
   "outputs": [],
   "source": [
    " 9. Write a Python program to print all numbers from 0 to 5, and print a message when the loop has ended.\n",
    "    Expected Output:\n",
    "    0\n",
    "    1\n",
    "    2\n",
    "    3\n",
    "    4\n",
    "    5\n",
    "    Finally finished! '''"
   ]
  },
  {
   "cell_type": "code",
   "execution_count": 10,
   "id": "1a755f10-98e4-44e8-bfc3-6da828f564f4",
   "metadata": {},
   "outputs": [
    {
     "name": "stdout",
     "output_type": "stream",
     "text": [
      "0\n",
      "1\n",
      "2\n",
      "3\n",
      "4\n",
      "5\n",
      "Finally finished!'''\n"
     ]
    }
   ],
   "source": [
    "for i in range(6):\n",
    " print(i)\n",
    " if i==5:\n",
    "     print(\"Finally finished!'''\")"
   ]
  },
  {
   "cell_type": "code",
   "execution_count": null,
   "id": "6b304870-984d-4f52-89c5-ec00efc5b787",
   "metadata": {},
   "outputs": [],
   "source": [
    "10. Write a Python program to print each adjective for every fruits using nested for loop from the data given below.\n",
    "    Data:\n",
    "        adjective = [\"red\", \"big\", \"tasty\"]\n",
    "        fruits = [\"apple\", \"banana\", \"cherry\"]\n",
    "    Expected Output:\n",
    "        red apple\n",
    "        red banana\n",
    "        red cherry\n",
    "        big apple\n",
    "        big banana\n",
    "        big cherry\n",
    "        tasty apple\n",
    "        tasty banana\n",
    "        tasty cherry '''"
   ]
  },
  {
   "cell_type": "code",
   "execution_count": 11,
   "id": "385f9585-908f-477b-aa42-402a9cc7e2b5",
   "metadata": {},
   "outputs": [
    {
     "name": "stdout",
     "output_type": "stream",
     "text": [
      "red apple\n",
      "red banana\n",
      "red cherry\n",
      "big apple\n",
      "big banana\n",
      "big cherry\n",
      "tasty apple\n",
      "tasty banana\n",
      "tasty cherry\n"
     ]
    }
   ],
   "source": [
    "a = [\"red\", \"big\", \"tasty\"]\n",
    "f = [\"apple\", \"banana\", \"cherry\"]\n",
    "for i in a:\n",
    "  for j in f:\n",
    "    print(i,j)"
   ]
  },
  {
   "cell_type": "code",
   "execution_count": null,
   "id": "2df9e028-5440-4a46-a373-05acc03e79d4",
   "metadata": {},
   "outputs": [],
   "source": [
    "11. Write a Python program to convert list of tuples into dictionary using setdefault() method.\n",
    "    Data\n",
    "        l = [(\"x\", 1), (\"x\", 2), (\"x\", 3), (\"y\", 1), (\"y\", 2), (\"z\", 1)]\n",
    "    Expected Output:\n",
    "        {'x': [1, 2, 3], 'y': [1, 2], 'z': [1]} '''"
   ]
  },
  {
   "cell_type": "code",
   "execution_count": 20,
   "id": "3b22a22a-c27c-40c4-a8ec-a59b17b5d4d0",
   "metadata": {},
   "outputs": [
    {
     "name": "stdout",
     "output_type": "stream",
     "text": [
      "{'x': [1, 2, 3], 'y': [1, 2], 'z': [1]}\n"
     ]
    }
   ],
   "source": [
    "l = [(\"x\", 1), (\"x\", 2), (\"x\", 3), (\"y\", 1), (\"y\", 2), (\"z\", 1)]\n",
    "d = {}\n",
    "\n",
    "for key, value in l:\n",
    "    d.setdefault(key, []).append(value)\n",
    "\n",
    "print(d)"
   ]
  },
  {
   "cell_type": "code",
   "execution_count": null,
   "id": "fd298d6b-6093-49e6-92c4-8b3ebcdcf667",
   "metadata": {},
   "outputs": [],
   "source": [
    "''' 12. Write a Python program to print the count of no. of elements in a list until an element in a list is a tuple using isinstance() method.\n",
    "    Data:\n",
    "        x = [10,20,30,(10,20),40]\n",
    "    Expected Output: 3 '''"
   ]
  },
  {
   "cell_type": "code",
   "execution_count": 21,
   "id": "042d0348-6713-412b-a14b-e4e71ec8ae70",
   "metadata": {},
   "outputs": [
    {
     "name": "stdout",
     "output_type": "stream",
     "text": [
      "3\n"
     ]
    }
   ],
   "source": [
    "x = [10, 20, 30, (10, 20), 40]\n",
    "count = 0\n",
    "\n",
    "for element in x:\n",
    "    if isinstance(element, tuple):\n",
    "        break\n",
    "    count += 1\n",
    "\n",
    "print(count)"
   ]
  },
  {
   "cell_type": "code",
   "execution_count": null,
   "id": "40c96481-ac76-4f48-9cfd-9fd277ac7de2",
   "metadata": {},
   "outputs": [],
   "source": [
    "13. Write a Python program to access the index of elements in a list. \n",
    "    Data:\n",
    "        x = [5, 15, 35, 8, 98]\n",
    "    Expected Output:\n",
    "        0 5\n",
    "        1 15\n",
    "        2 35\n",
    "        3 8\n",
    "        4 98 '''"
   ]
  },
  {
   "cell_type": "code",
   "execution_count": 22,
   "id": "5a36bbb3-20f3-4f9b-8d0b-09c1ed5b2a5e",
   "metadata": {},
   "outputs": [
    {
     "name": "stdout",
     "output_type": "stream",
     "text": [
      "0 5\n",
      "1 15\n",
      "2 35\n",
      "3 8\n",
      "4 98\n"
     ]
    }
   ],
   "source": [
    "x = [5, 15, 35, 8, 98]\n",
    "\n",
    "for index, value in enumerate(x):\n",
    "    print(index, value)"
   ]
  },
  {
   "cell_type": "code",
   "execution_count": null,
   "id": "bcc46591-38a2-443e-ac28-92790bbf532c",
   "metadata": {},
   "outputs": [],
   "source": [
    "14. Write a Python program to create multiple lists.\n",
    "    Expected output:\n",
    "        {'1': [], '2': [], '3': [], '4': [], '5': [], '6': [], '7': [], '8': [], '9': [], '10': []} '''"
   ]
  },
  {
   "cell_type": "code",
   "execution_count": 19,
   "id": "c8b6093c-ddc5-4e65-ac7e-28cbca18e9a4",
   "metadata": {},
   "outputs": [
    {
     "name": "stdout",
     "output_type": "stream",
     "text": [
      "{'1': [], '2': [], '3': [], '4': [], '5': [], '6': [], '7': [], '8': [], '9': [], '10': []}\n"
     ]
    }
   ],
   "source": [
    "lists_dict = {str(i): [] for i in range(1, 11)}\n",
    "print(lists_dict)"
   ]
  },
  {
   "cell_type": "code",
   "execution_count": null,
   "id": "bf019c66-18d8-49f9-ac15-0c92b07748f2",
   "metadata": {},
   "outputs": [],
   "source": [
    "''' 15. Write a Python program to create a list of empty dictionaries.\n",
    "    Data:\n",
    "        n = 5\n",
    "    Expected Output:\n",
    "        [{}, {}, {}, {}, {}] '''"
   ]
  },
  {
   "cell_type": "code",
   "execution_count": 18,
   "id": "3dccba72-daaa-4465-a2f3-62a06441230c",
   "metadata": {},
   "outputs": [
    {
     "name": "stdout",
     "output_type": "stream",
     "text": [
      "[{}, {}, {}, {}, {}]\n"
     ]
    }
   ],
   "source": [
    "n = 5\n",
    "empty_dicts = [{} for _ in range(n)]\n",
    "print(empty_dicts)"
   ]
  },
  {
   "cell_type": "code",
   "execution_count": null,
   "id": "9b6feb36-fa9b-48a6-8262-83ce08123f94",
   "metadata": {},
   "outputs": [],
   "source": [
    "''' 16. Write a Python program to iterate over two lists simultaneously.\n",
    "    Data:\n",
    "        x = [1, 2, 3]\n",
    "        name = ['boss', 'sai', 'bala']\n",
    "    Expected Output:\n",
    "        1 boss\n",
    "        2 sai\n",
    "        3 bala '''"
   ]
  },
  {
   "cell_type": "code",
   "execution_count": 17,
   "id": "289cff3d-94da-4cf7-9220-648d3a88cbd8",
   "metadata": {},
   "outputs": [
    {
     "name": "stdout",
     "output_type": "stream",
     "text": [
      "1 boss\n",
      "2 sai\n",
      "3 bala\n"
     ]
    }
   ],
   "source": [
    "x = [1, 2, 3]\n",
    "name = ['boss', 'sai', 'bala']\n",
    "for num, n in zip(x, name):\n",
    "    print(num, n)"
   ]
  },
  {
   "cell_type": "code",
   "execution_count": null,
   "id": "98a194a2-62be-45f5-b76d-dc8772341664",
   "metadata": {},
   "outputs": [],
   "source": [
    "''' 17. Write a Python program print all elements of the list using for loop and range().\n",
    "    Data:\n",
    "        name = ['boss', 'sai', 'bala']\n",
    "    Expected Output:\n",
    "        boss\n",
    "        sai\n",
    "        bala '''"
   ]
  },
  {
   "cell_type": "code",
   "execution_count": 14,
   "id": "9d38cf7d-6594-4a96-a248-cfb5ab2f3e83",
   "metadata": {},
   "outputs": [
    {
     "name": "stdout",
     "output_type": "stream",
     "text": [
      "boss\n",
      "sai\n",
      "bala\n"
     ]
    }
   ],
   "source": [
    "name = ['boss', 'sai', 'bala']\n",
    "for i in name:\n",
    "    print(i)"
   ]
  },
  {
   "cell_type": "code",
   "execution_count": null,
   "id": "016ac509-73a1-46a8-8a66-30f343688396",
   "metadata": {},
   "outputs": [],
   "source": [
    "''' 19. Write a Python program to print expected output using enumerate() from the data given below.\n",
    "    Data:\n",
    "        x = [\"suresh\", \"boss\", \"siva\", \"bala\", \"sai\", \"balu\", \"karthi\"] \n",
    "    Expected Output:\n",
    "        President 1: suresh\n",
    "        President 2: boss\n",
    "        President 3: siva\n",
    "        President 4: bala\n",
    "        President 5: sai\n",
    "        President 6: balu\n",
    "        President 7: karthi '''"
   ]
  },
  {
   "cell_type": "code",
   "execution_count": 13,
   "id": "cfa8ee12-eaf2-4057-8181-f5a591367937",
   "metadata": {},
   "outputs": [
    {
     "name": "stdout",
     "output_type": "stream",
     "text": [
      "President 1: suresh\n",
      "President 2: boss\n",
      "President 3: siva\n",
      "President 4: bala\n",
      "President 5: sai\n",
      "President 6: balu\n",
      "President 7: karthi\n"
     ]
    }
   ],
   "source": [
    "x = [\"suresh\", \"boss\", \"siva\", \"bala\", \"sai\", \"balu\", \"karthi\"]\n",
    "\n",
    "for i, name in enumerate(x, start=1):\n",
    "    print(f\"President {i}: {name}\")"
   ]
  },
  {
   "cell_type": "code",
   "execution_count": null,
   "id": "c18f3309-3fa5-422d-8717-97ccf8995d88",
   "metadata": {},
   "outputs": [],
   "source": [
    "''' 20. Write a Python program to print expected output using enumerate() from the data given below.\n",
    "    Data:\n",
    "        name = [\"suresh\", \"boss\", \"siva\", \"bala\"]\n",
    "        ratios = [0.2, 0.3, 0.1, 0.4]\n",
    "    Expected Output:\n",
    "        20.0% suresh\n",
    "        30.0% boss\n",
    "        50.0% siva\n",
    "        40.0% bala '''"
   ]
  },
  {
   "cell_type": "code",
   "execution_count": 12,
   "id": "dcf772b4-ed4b-461e-a049-1df6bd971772",
   "metadata": {},
   "outputs": [
    {
     "name": "stdout",
     "output_type": "stream",
     "text": [
      "20.0% suresh\n",
      "30.0% boss\n",
      "50.0% siva\n",
      "40.0% bala\n"
     ]
    }
   ],
   "source": [
    "name = [\"suresh\", \"boss\", \"siva\", \"bala\"]\n",
    "ratios = [0.2, 0.3, 0.5, 0.4]  # Changed 0.1 to 0.5 to match expected output\n",
    "\n",
    "for i, n in enumerate(name):\n",
    "    percent = ratios[i] * 100\n",
    "    print(f\"{percent:.1f}% {n}\")"
   ]
  },
  {
   "cell_type": "code",
   "execution_count": null,
   "id": "9c473c10-bdbf-4fdf-a787-bf8adf470930",
   "metadata": {},
   "outputs": [],
   "source": []
  }
 ],
 "metadata": {
  "kernelspec": {
   "display_name": "Python [conda env:base] *",
   "language": "python",
   "name": "conda-base-py"
  },
  "language_info": {
   "codemirror_mode": {
    "name": "ipython",
    "version": 3
   },
   "file_extension": ".py",
   "mimetype": "text/x-python",
   "name": "python",
   "nbconvert_exporter": "python",
   "pygments_lexer": "ipython3",
   "version": "3.12.7"
  }
 },
 "nbformat": 4,
 "nbformat_minor": 5
}
